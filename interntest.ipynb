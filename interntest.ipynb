{
  "cells": [
    {
      "cell_type": "code",
      "execution_count": 2,
      "metadata": {
        "colab": {
          "base_uri": "https://localhost:8080/"
        },
        "id": "OoItm9VDHfM4",
        "outputId": "26c5a844-2290-4499-ef1e-3384a683d0a1"
      },
      "outputs": [
        {
          "name": "stdout",
          "output_type": "stream",
          "text": [
            "Requirement already satisfied: sentence-splitter in c:\\users\\shubh\\appdata\\local\\programs\\python\\python310\\lib\\site-packages (1.4)\n",
            "Requirement already satisfied: regex>=2017.12.12 in c:\\users\\shubh\\appdata\\local\\programs\\python\\python310\\lib\\site-packages (from sentence-splitter) (2022.10.31)\n",
            "Note: you may need to restart the kernel to use updated packages.\n"
          ]
        }
      ],
      "source": [
        " pip install sentence-splitter"
      ]
    },
    {
      "cell_type": "code",
      "execution_count": 3,
      "metadata": {
        "colab": {
          "base_uri": "https://localhost:8080/"
        },
        "id": "dBCDcBRGIKSf",
        "outputId": "b8431b93-e759-4fbe-a131-9a415c454f4d"
      },
      "outputs": [
        {
          "name": "stdout",
          "output_type": "stream",
          "text": [
            "Requirement already satisfied: transformers in c:\\users\\shubh\\appdata\\local\\programs\\python\\python310\\lib\\site-packages (4.23.1)\n",
            "Requirement already satisfied: tqdm>=4.27 in c:\\users\\shubh\\appdata\\local\\programs\\python\\python310\\lib\\site-packages (from transformers) (4.64.1)\n",
            "Requirement already satisfied: pyyaml>=5.1 in c:\\users\\shubh\\appdata\\local\\programs\\python\\python310\\lib\\site-packages (from transformers) (6.0)\n",
            "Requirement already satisfied: numpy>=1.17 in c:\\users\\shubh\\appdata\\local\\programs\\python\\python310\\lib\\site-packages (from transformers) (1.22.0)\n",
            "Requirement already satisfied: requests in c:\\users\\shubh\\appdata\\local\\programs\\python\\python310\\lib\\site-packages (from transformers) (2.27.0)\n",
            "Requirement already satisfied: packaging>=20.0 in c:\\users\\shubh\\appdata\\local\\programs\\python\\python310\\lib\\site-packages (from transformers) (21.3)\n",
            "Requirement already satisfied: huggingface-hub<1.0,>=0.10.0 in c:\\users\\shubh\\appdata\\local\\programs\\python\\python310\\lib\\site-packages (from transformers) (0.10.1)\n",
            "Requirement already satisfied: tokenizers!=0.11.3,<0.14,>=0.11.1 in c:\\users\\shubh\\appdata\\local\\programs\\python\\python310\\lib\\site-packages (from transformers) (0.13.1)\n",
            "Requirement already satisfied: filelock in c:\\users\\shubh\\appdata\\local\\programs\\python\\python310\\lib\\site-packages (from transformers) (3.8.0)\n",
            "Requirement already satisfied: regex!=2019.12.17 in c:\\users\\shubh\\appdata\\local\\programs\\python\\python310\\lib\\site-packages (from transformers) (2022.10.31)\n",
            "Requirement already satisfied: typing-extensions>=3.7.4.3 in c:\\users\\shubh\\appdata\\local\\programs\\python\\python310\\lib\\site-packages (from huggingface-hub<1.0,>=0.10.0->transformers) (4.4.0)\n",
            "Requirement already satisfied: pyparsing!=3.0.5,>=2.0.2 in c:\\users\\shubh\\appdata\\local\\programs\\python\\python310\\lib\\site-packages (from packaging>=20.0->transformers) (3.0.7)\n",
            "Requirement already satisfied: colorama in c:\\users\\shubh\\appdata\\local\\programs\\python\\python310\\lib\\site-packages (from tqdm>=4.27->transformers) (0.4.4)\n",
            "Requirement already satisfied: certifi>=2017.4.17 in c:\\users\\shubh\\appdata\\local\\programs\\python\\python310\\lib\\site-packages (from requests->transformers) (2021.10.8)\n",
            "Requirement already satisfied: urllib3<1.27,>=1.21.1 in c:\\users\\shubh\\appdata\\local\\programs\\python\\python310\\lib\\site-packages (from requests->transformers) (1.26.7)\n",
            "Requirement already satisfied: idna<4,>=2.5 in c:\\users\\shubh\\appdata\\local\\programs\\python\\python310\\lib\\site-packages (from requests->transformers) (3.3)\n",
            "Requirement already satisfied: charset-normalizer~=2.0.0 in c:\\users\\shubh\\appdata\\local\\programs\\python\\python310\\lib\\site-packages (from requests->transformers) (2.0.9)\n",
            "Note: you may need to restart the kernel to use updated packages.\n"
          ]
        }
      ],
      "source": [
        "pip install transformers"
      ]
    },
    {
      "cell_type": "code",
      "execution_count": 4,
      "metadata": {
        "colab": {
          "base_uri": "https://localhost:8080/"
        },
        "id": "FGTmRY_YIyzr",
        "outputId": "6a9a06de-32cc-4c09-972f-0a39bbadd4fe"
      },
      "outputs": [
        {
          "name": "stdout",
          "output_type": "stream",
          "text": [
            "Requirement already satisfied: SentencePiece in c:\\users\\shubh\\appdata\\local\\programs\\python\\python310\\lib\\site-packages (0.1.97)Note: you may need to restart the kernel to use updated packages.\n",
            "\n"
          ]
        }
      ],
      "source": [
        "pip install SentencePiece"
      ]
    },
    {
      "cell_type": "code",
      "execution_count": 5,
      "metadata": {
        "id": "EXYFsl8aIOlu"
      },
      "outputs": [
        {
          "name": "stderr",
          "output_type": "stream",
          "text": [
            "c:\\Users\\shubh\\AppData\\Local\\Programs\\Python\\Python310\\lib\\site-packages\\tqdm\\auto.py:22: TqdmWarning: IProgress not found. Please update jupyter and ipywidgets. See https://ipywidgets.readthedocs.io/en/stable/user_install.html\n",
            "  from .autonotebook import tqdm as notebook_tqdm\n",
            "c:\\Users\\shubh\\AppData\\Local\\Programs\\Python\\Python310\\lib\\site-packages\\torch\\_utils.py:146: UserWarning: Failed to initialize NumPy: module compiled against API version 0x10 but this version of numpy is 0xf (Triggered internally at ..\\torch\\csrc\\utils\\tensor_numpy.cpp:77.)\n",
            "  t = torch.tensor([], dtype=storage.dtype, device=storage.untyped().device)\n"
          ]
        }
      ],
      "source": [
        "import torch\n",
        "from transformers import PegasusForConditionalGeneration, PegasusTokenizer\n",
        "\n",
        "model_name = 'tuner007/pegasus_paraphrase'\n",
        "torch_device = 'cuda' if torch.cuda.is_available() else 'cpu'\n",
        "tokenizer = PegasusTokenizer.from_pretrained(model_name)\n",
        "model = PegasusForConditionalGeneration.from_pretrained(model_name).to(torch_device)\n",
        "\n",
        "def get_response(input_text,num_return_sequences):\n",
        "  batch = tokenizer.prepare_seq2seq_batch([input_text],truncation=True,padding='longest',max_length=60, return_tensors=\"pt\").to(torch_device)\n",
        "  translated = model.generate(**batch,max_length=60,num_beams=10, num_return_sequences=num_return_sequences, temperature=1.5)\n",
        "  tgt_text = tokenizer.batch_decode(translated, skip_special_tokens=True)\n",
        "  return tgt_text"
      ]
    },
    {
      "cell_type": "code",
      "execution_count": 6,
      "metadata": {
        "colab": {
          "base_uri": "https://localhost:8080/"
        },
        "id": "YpchfygsXb57",
        "outputId": "65311a3d-ae6b-4470-936d-75ea3c21b0b3"
      },
      "outputs": [
        {
          "name": "stdout",
          "output_type": "stream",
          "text": [
            "Python is a programming language with many characteristics, such as an intuitive syntax and powerful data structures, which can lead to efficient code. \n",
            "It is no wonder that this, as well as experienced developers, are benefitting.\n",
            "Programmers use Python for different tasks. Some use it as their primary language because it is concise and easy to read. Others include it in their toolkit because of its impressive batteries (libraries) that are available for pursuing practically any task imaginable.\n",
            "In this guide we will explore:\n",
            "- What is Python used for?\n",
            "- The History of Python\n",
            "- How to install Python\n",
            "- How to write Python code\n"
          ]
        }
      ],
      "source": [
        "context = \"\"\"Python is a programming language with many characteristics, such as an intuitive syntax and powerful data structures, which can lead to efficient code. \n",
        "It is no wonder that this, as well as experienced developers, are benefitting.\n",
        "Programmers use Python for different tasks. Some use it as their primary language because it is concise and easy to read. Others include it in their toolkit because of its impressive batteries (libraries) that are available for pursuing practically any task imaginable.\n",
        "In this guide we will explore:\n",
        "- What is Python used for?\n",
        "- The History of Python\n",
        "- How to install Python\n",
        "- How to write Python code\"\"\"\n",
        "print(context)"
      ]
    },
    {
      "cell_type": "code",
      "execution_count": 7,
      "metadata": {
        "colab": {
          "base_uri": "https://localhost:8080/"
        },
        "id": "MJz3eKXMZjjF",
        "outputId": "e4707d06-bae9-4431-f01b-2b576f82e06e"
      },
      "outputs": [
        {
          "data": {
            "text/plain": [
              "['Python is a programming language with many characteristics, such as an intuitive syntax and powerful data structures, which can lead to efficient code.',\n",
              " 'It is no wonder that this, as well as experienced developers, are benefitting.',\n",
              " 'Programmers use Python for different tasks.',\n",
              " 'Some use it as their primary language because it is concise and easy to read.',\n",
              " 'Others include it in their toolkit because of its impressive batteries (libraries) that are available for pursuing practically any task imaginable.',\n",
              " 'In this guide we will explore:',\n",
              " '- What is Python used for?',\n",
              " '- The History of Python',\n",
              " '- How to install Python',\n",
              " '- How to write Python code']"
            ]
          },
          "execution_count": 7,
          "metadata": {},
          "output_type": "execute_result"
        }
      ],
      "source": [
        "from sentence_splitter import SentenceSplitter, split_text_into_sentences\n",
        "\n",
        "splitter = SentenceSplitter(language = 'en')\n",
        "sentence_list = splitter.split(context)\n",
        "sentence_list\n"
      ]
    },
    {
      "cell_type": "code",
      "execution_count": 8,
      "metadata": {
        "colab": {
          "base_uri": "https://localhost:8080/"
        },
        "id": "hR3RD44FZ_4c",
        "outputId": "6aed5d01-d453-4bce-a15a-a31e65c1d92c"
      },
      "outputs": [
        {
          "name": "stderr",
          "output_type": "stream",
          "text": [
            "c:\\Users\\shubh\\AppData\\Local\\Programs\\Python\\Python310\\lib\\site-packages\\transformers\\tokenization_utils_base.py:3668: FutureWarning: \n",
            "`prepare_seq2seq_batch` is deprecated and will be removed in version 5 of HuggingFace Transformers. Use the regular\n",
            "`__call__` method to prepare your inputs and targets.\n",
            "\n",
            "Here is a short example:\n",
            "\n",
            "model_inputs = tokenizer(src_texts, text_target=tgt_texts, ...)\n",
            "\n",
            "If you either need to use different keyword arguments for the source and target texts, you should do two calls like\n",
            "this:\n",
            "\n",
            "model_inputs = tokenizer(src_texts, ...)\n",
            "labels = tokenizer(text_target=tgt_texts, ...)\n",
            "model_inputs[\"labels\"] = labels[\"input_ids\"]\n",
            "\n",
            "See the documentation of your specific tokenizer for more details on the specific arguments to the tokenizer of choice.\n",
            "For a more complete example, see the implementation of `prepare_seq2seq_batch`.\n",
            "\n",
            "  warnings.warn(formatted_warning, FutureWarning)\n"
          ]
        }
      ],
      "source": [
        "paraphrase = []\n",
        "\n",
        "for i in sentence_list:\n",
        "  a = get_response(i,1)\n",
        "  paraphrase.append(a)"
      ]
    },
    {
      "cell_type": "code",
      "execution_count": 9,
      "metadata": {
        "colab": {
          "base_uri": "https://localhost:8080/"
        },
        "id": "58APT_gfaLsN",
        "outputId": "7fd2aa0b-6e0f-4484-f62a-c62a635fcae1"
      },
      "outputs": [
        {
          "data": {
            "text/plain": [
              "[['Python is a programming language with many characteristics, such as an intuitive syntax and powerful data structures, which can lead to efficient code.'],\n",
              " ['This, as well as experienced developers, are benefiting.'],\n",
              " ['Python is used by programmers for different tasks.'],\n",
              " ['It is easy to read and some people use it as their primary language.'],\n",
              " ['Other people include it in their toolkit because of its impressive batteries.'],\n",
              " ['We will explore in this guide.'],\n",
              " ['What isPython used for?'],\n",
              " ['The history of Python.'],\n",
              " ['How to install a program.'],\n",
              " ['There is a way to write Python code.']]"
            ]
          },
          "execution_count": 9,
          "metadata": {},
          "output_type": "execute_result"
        }
      ],
      "source": [
        "paraphrase"
      ]
    },
    {
      "cell_type": "code",
      "execution_count": 10,
      "metadata": {
        "colab": {
          "base_uri": "https://localhost:8080/"
        },
        "id": "V5I7TRqZok2U",
        "outputId": "1c5d206b-292e-49b8-9608-ca4523d79fb5"
      },
      "outputs": [
        {
          "data": {
            "text/plain": [
              "['Python is a programming language with many characteristics, such as an intuitive syntax and powerful data structures, which can lead to efficient code.',\n",
              " 'This, as well as experienced developers, are benefiting.',\n",
              " 'Python is used by programmers for different tasks.',\n",
              " 'It is easy to read and some people use it as their primary language.',\n",
              " 'Other people include it in their toolkit because of its impressive batteries.',\n",
              " 'We will explore in this guide.',\n",
              " 'What isPython used for?',\n",
              " 'The history of Python.',\n",
              " 'How to install a program.',\n",
              " 'There is a way to write Python code.']"
            ]
          },
          "execution_count": 10,
          "metadata": {},
          "output_type": "execute_result"
        }
      ],
      "source": [
        "paraphrase2 = [' '.join(x) for x in paraphrase]\n",
        "paraphrase2"
      ]
    },
    {
      "cell_type": "code",
      "execution_count": 11,
      "metadata": {
        "colab": {
          "base_uri": "https://localhost:8080/",
          "height": 70
        },
        "id": "ZTQjyFSTolWc",
        "outputId": "3cfcb27c-1d42-48fe-f56e-01b2e11d67b8"
      },
      "outputs": [
        {
          "data": {
            "text/plain": [
              "'Python is a programming language with many characteristics, such as an intuitive syntax and powerful data structures, which can lead to efficient code. This, as well as experienced developers, are benefiting. Python is used by programmers for different tasks. It is easy to read and some people use it as their primary language. Other people include it in their toolkit because of its impressive batteries. We will explore in this guide. What isPython used for? The history of Python. How to install a program. There is a way to write Python code.'"
            ]
          },
          "execution_count": 11,
          "metadata": {},
          "output_type": "execute_result"
        }
      ],
      "source": [
        "paraphrase3 = [' '.join(x for x in paraphrase2) ]\n",
        "paraphrased_text = str(paraphrase3).strip('[]').strip(\"'\")\n",
        "paraphrased_text"
      ]
    },
    {
      "cell_type": "code",
      "execution_count": 12,
      "metadata": {
        "colab": {
          "base_uri": "https://localhost:8080/"
        },
        "id": "Z_k4EshlonIJ",
        "outputId": "0370ed9c-b89c-49fe-f6db-488010a458fc"
      },
      "outputs": [
        {
          "name": "stdout",
          "output_type": "stream",
          "text": [
            "Python is a programming language with many characteristics, such as an intuitive syntax and powerful data structures, which can lead to efficient code. \n",
            "It is no wonder that this, as well as experienced developers, are benefitting.\n",
            "Programmers use Python for different tasks. Some use it as their primary language because it is concise and easy to read. Others include it in their toolkit because of its impressive batteries (libraries) that are available for pursuing practically any task imaginable.\n",
            "In this guide we will explore:\n",
            "- What is Python used for?\n",
            "- The History of Python\n",
            "- How to install Python\n",
            "- How to write Python code\n",
            "-------paraphrased text: ---------\n",
            "Python is a programming language with many characteristics, such as an intuitive syntax and powerful data structures, which can lead to efficient code. This, as well as experienced developers, are benefiting. Python is used by programmers for different tasks. It is easy to read and some people use it as their primary language. Other people include it in their toolkit because of its impressive batteries. We will explore in this guide. What isPython used for? The history of Python. How to install a program. There is a way to write Python code.\n"
          ]
        }
      ],
      "source": [
        "print(context)\n",
        "print(\"-------paraphrased text: ---------\")\n",
        "print(paraphrased_text)"
      ]
    }
  ],
  "metadata": {
    "accelerator": "GPU",
    "colab": {
      "collapsed_sections": [],
      "provenance": []
    },
    "gpuClass": "standard",
    "kernelspec": {
      "display_name": "Python 3.10.0 64-bit",
      "language": "python",
      "name": "python3"
    },
    "language_info": {
      "codemirror_mode": {
        "name": "ipython",
        "version": 3
      },
      "file_extension": ".py",
      "mimetype": "text/x-python",
      "name": "python",
      "nbconvert_exporter": "python",
      "pygments_lexer": "ipython3",
      "version": "3.10.0"
    },
    "vscode": {
      "interpreter": {
        "hash": "3ce76490c07a75ea24134e09186af2521c358252e3ea70d858a2691e4a58fda3"
      }
    }
  },
  "nbformat": 4,
  "nbformat_minor": 0
}
